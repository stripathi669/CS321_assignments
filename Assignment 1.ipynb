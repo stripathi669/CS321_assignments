{
 "metadata": {
  "name": "",
  "signature": "sha256:e639642eff87514ef645fc36c14c557d2a8b6d6d11420e679cd02a03b97fc282"
 },
 "nbformat": 3,
 "nbformat_minor": 0,
 "worksheets": [
  {
   "cells": [
    {
     "cell_type": "heading",
     "level": 3,
     "metadata": {},
     "source": [
      "Shivam Mani Tripathi\n",
      "11110096"
     ]
    },
    {
     "cell_type": "markdown",
     "metadata": {},
     "source": [
      "Here's the code that Sir gave:"
     ]
    },
    {
     "cell_type": "code",
     "collapsed": false,
     "input": [
      "#-----------Node Definitation-------------\n",
      "class Node():\n",
      "    def __init__(self,value):\n",
      "        self.val=value\n",
      "        self.next=None\n",
      "    \n",
      "#-----------Linked List Definition--------\n",
      "class LinkedList():\n",
      "    def __init__(svayam):\n",
      "        svayam.head=None\n",
      "        \n",
      "    def insert(self,val):\n",
      "        temp=Node(val)\n",
      "        temp.next=self.head\n",
      "        self.head=temp\n",
      "        \n",
      "    def printL(self):\n",
      "        \n",
      "        temp=self.head\n",
      "        print \"Head <--\",\n",
      "        while temp!=None:\n",
      "            print temp.val, \"<--\",\n",
      "            temp=temp.next\n",
      "        print \"Tail\\n\"\n",
      "            \n",
      "    def delete(self,v):\n",
      "        if self.head == None:\n",
      "            print \"Empty List\"\n",
      "            return\n",
      "        if self.head.val==v:\n",
      "            self.head=self.head.next\n",
      "            return\n",
      "        prev=self.head\n",
      "        cur=self.head.next\n",
      "        while cur!=None and cur.val!=v:\n",
      "            cur=cur.next\n",
      "            prev=prev.next\n",
      "        if cur==None:\n",
      "            print \"Not found\"\n",
      "        else:\n",
      "            prev.next=cur.next\n",
      "\n",
      "#--------- Menu --------------------\n",
      "ll=LinkedList()\n",
      "option = 0\n",
      "while option != 4:\n",
      "    print \"1. Add 2. Delete 3. Print 4. Exit\"\n",
      "    option=input(\"Option :\")\n",
      "    if option==1:\n",
      "        value=input(\"What Value to add: \")\n",
      "        ll.insert(value)\n",
      "    elif option==2:\n",
      "        value=input(\"What Value to delete: \")\n",
      "        ll.delete(value)\n",
      "    elif option==3:\n",
      "        ll.printL()\n",
      "    elif option==4:\n",
      "        break\n",
      "    else:\n",
      "        print \"Wrong Option\"\n"
     ],
     "language": "python",
     "metadata": {},
     "outputs": [],
     "prompt_number": 1
    },
    {
     "cell_type": "heading",
     "level": 3,
     "metadata": {},
     "source": [
      "Runner Loop"
     ]
    },
    {
     "cell_type": "heading",
     "level": 3,
     "metadata": {},
     "source": [
      "Question One"
     ]
    },
    {
     "cell_type": "markdown",
     "metadata": {},
     "source": [
      "Q1. Linked List in Sorted order In a ordinary linked list the elements does\n",
      "    not have any order. Thus if we want to sort the elements in a linked list it\n",
      "    might take O(n log n) time. But if the elements are stored in sorted order\n",
      "    the runtime can be reduced. Write a program to store elements in sorted\n",
      "    order. Your program must support the following functions a) Insertion\n",
      "    (this is the place where you need to store the incoming element in its\n",
      "    correct place) b) Search if an element is present in the list c) Deletion\n",
      "    (only one occurrence is deleted) e) Print (prints the list in sorted order).\n",
      "    The program should show a menu to the user\n",
      "    \n",
      "1. Insert\n",
      "2. Search\n",
      "3. Delete\n",
      "4. Print\n",
      "5. Exit\n",
      "\n",
      "If the user picks 1, your program should then ask Value of the new\n",
      "element ?: , etc. Once an operation is finished it must go back to\n",
      "the menu. Example of a menu based program is given below. (filename:\n",
      "LinkedList)\n"
     ]
    },
    {
     "cell_type": "code",
     "collapsed": false,
     "input": [
      "class SortedLinkedList(LinkedList):\n",
      "    def __init__(svayam):\n",
      "        svayam.head=None\n",
      "        svayam.first_node = None\n",
      "    \n",
      "    def insert(self,val):\n",
      "        temp=Node(val)\n",
      "        temp_head = self.head\n",
      "        if self.head == None: \n",
      "            self.first_node = temp\n",
      "            self.head = temp\n",
      "            return None\n",
      "        temp_head_prev = None\n",
      "        while temp_head!=None  and temp_head.val < val:\n",
      "            temp_head_prev = temp_head\n",
      "            temp_head = temp_head.next\n",
      "        temp.next = temp_head\n",
      "        if temp_head_prev != None: \n",
      "            temp_head_prev.next = temp\n",
      "        else: self.first_node =temp \n",
      "        self.head=self.first_node\n",
      "        \n",
      "#--------- Menu --------------------\n",
      "ll=SortedLinkedList()\n",
      "option = 0\n",
      "while option != 4:\n",
      "    print \"1. Add 2. Delete 3. Print 4. Exit\"\n",
      "    option=input(\"Option :\")\n",
      "    if option==1:\n",
      "        value=input(\"What Value to add: \")\n",
      "        ll.insert(value)\n",
      "    elif option==2:\n",
      "        value=input(\"What Value to delete: \")\n",
      "        ll.delete(value)\n",
      "    elif option==3:\n",
      "        ll.printL()\n",
      "    elif option==4:\n",
      "        break\n",
      "    else:\n",
      "        print \"Wrong Option\"\n"
     ],
     "language": "python",
     "metadata": {},
     "outputs": [],
     "prompt_number": 61
    },
    {
     "cell_type": "code",
     "collapsed": false,
     "input": [
      "from random import randint\n",
      "ll=SortedLinkedList()\n",
      "for i in range(15):\n",
      "    num = randint(0,9)\n",
      "    print num,\" ,\",\n",
      "    ll.insert(num)\n",
      "print \"\\n\"\n",
      "ll.printL()"
     ],
     "language": "python",
     "metadata": {},
     "outputs": [
      {
       "output_type": "stream",
       "stream": "stdout",
       "text": [
        "2  , 0  , 7  , 5  , 8  , 9  , 9  , 4  , 8  , 0  , 1  , 9  , 4  , 1  , 4  , \n",
        "\n",
        "Head <-- 0 <-- 0 <-- 1 <-- 1 <-- 2 <-- 4 <-- 4 <-- 4 <-- 5 <-- 7 <-- 8 <-- 8 <-- 9 <-- 9 <-- 9 <-- Tail\n",
        "\n"
       ]
      }
     ],
     "prompt_number": 64
    },
    {
     "cell_type": "heading",
     "level": 3,
     "metadata": {},
     "source": [
      "Question 2: Stack Using Linked List "
     ]
    },
    {
     "cell_type": "markdown",
     "metadata": {},
     "source": [
      "The array implementation of stack cannot handle\n",
      "more elements than the size of the array. This can be avoided if the\n",
      "stack is implemented using a linked list. Support Push, Pop and IsEmpty\n",
      "operations. Write a menu based program. (filename:StackUsingLinkedList)"
     ]
    },
    {
     "cell_type": "code",
     "collapsed": false,
     "input": [
      "class StackUsingLinkedList(LinkedList):\n",
      "    def __init__(svayam):\n",
      "        svayam.head=None\n",
      "        \n",
      "    def isEmpty(self):\n",
      "        if self.head == None:\n",
      "            return True\n",
      "        return False\n",
      "    \n",
      "    def Push(self, val):\n",
      "        self.insert(val)\n",
      "        \n",
      "    def Pop(self):\n",
      "        if(self.isEmpty()):\n",
      "             \n",
      "            return \"Underflow Error\"\n",
      "        else:\n",
      "            val = self.head.val\n",
      "            self.head = self.head.next\n",
      "        return val\n",
      "    \n",
      "from random import randint\n",
      "stack=StackUsingLinkedList()\n",
      "for i in range(15):\n",
      "    num = randint(0,9)\n",
      "    operation = randint(1,2)\n",
      "    if operation == 1:\n",
      "        print \"Push: \", num\n",
      "        stack.Push(num)\n",
      "    elif operation ==2:\n",
      "        print \"Pop: \", stack.Pop()\n",
      "        \n",
      "print \"\\n\"\n",
      "stack.printL()    "
     ],
     "language": "python",
     "metadata": {},
     "outputs": [
      {
       "output_type": "stream",
       "stream": "stdout",
       "text": [
        "Pop:  Underflow Error\n",
        "Pop:  Underflow Error\n",
        "Pop:  Underflow Error\n",
        "Push:  2\n",
        "Push:  6\n",
        "Pop:  6\n",
        "Push:  4\n",
        "Push:  3\n",
        "Push:  9\n",
        "Pop:  9\n",
        "Pop:  3\n",
        "Pop:  4\n",
        "Push:  4\n",
        "Push:  1\n",
        "Pop:  1\n",
        "\n",
        "\n",
        "Head <-- 4 <-- 2 <-- Tail\n",
        "\n"
       ]
      }
     ],
     "prompt_number": 79
    },
    {
     "cell_type": "heading",
     "level": 3,
     "metadata": {},
     "source": [
      "Question 3: Binary Search Tree "
     ]
    },
    {
     "cell_type": "markdown",
     "metadata": {},
     "source": [
      "Write a program to implement binary search tree. Support:\n",
      "\n",
      "1. search \n",
      "2. addition \n",
      "3. deletion \n",
      "4. successor. \n",
      "\n",
      "Again write a\n",
      "menu base program. (filename: BST)\n",
      "\n",
      "\n",
      "Answer: From Thomas Coreman, we have following pseduo code:\n",
      "\n",
      "     \n",
      "  "
     ]
    },
    {
     "cell_type": "code",
     "collapsed": false,
     "input": [
      "class TreeNode:\n",
      "    def __init__(self,  val):\n",
      "        self.val = val\n",
      "        self.left = None\n",
      "        self.right = None\n",
      "        self.parent = None\n",
      "\n",
      "class BinarySearchTree:\n",
      "    def __init__(self):\n",
      "        \"\"\" create an empty binary search tree \"\"\"\n",
      "        self.root = None\n",
      "        \n",
      "    def search(self ,val):\n",
      "        return self.recurive_search(self.root, val)\n",
      "    \n",
      "    def recurive_search(self, node, val):\n",
      "        if node == None or val == node.val : return node\n",
      "        if val < node.val:\n",
      "            return self.recurive_search(node.left , val)\n",
      "        else: return self.recurive_search(node.right , val)\n",
      "        \n",
      "    def tree_minimum(self, node):\n",
      "        while node.left != None:\n",
      "            node = node.left\n",
      "        return node\n",
      "            \n",
      "    def addition(self ,val):\n",
      "        new_node = TreeNode(val)\n",
      "        y = None\n",
      "        x = self.root\n",
      "        while x != None:\n",
      "            y=x\n",
      "            if new_node.val < x.val: x = x.left\n",
      "            else: x = x.right\n",
      "        new_node.parent = y\n",
      "        if y == None: self.root = new_node\n",
      "        else:\n",
      "            if new_node.val < y.val: y.left = new_node\n",
      "            else: y.right = new_node\n",
      "        \n",
      "        \n",
      "    def deletion(self ,node):\n",
      "        if node.left == None or node.right == None: y = node\n",
      "        else : y = self.successor(node)\n",
      "        \n",
      "        if y.left == None: x = y.left\n",
      "        else: x = y.right\n",
      "        if x == None: x.parent = y.parent\n",
      "            \n",
      "        if y.parent == None: self.root = x\n",
      "        elif y == y.parent.left: y.parent.left = x\n",
      "        else: y.parent.right = x\n",
      "            \n",
      "        if y!= node:  node.val = y.val\n",
      "        return y\n",
      "        \n",
      "            \n",
      "    def successor(self ,node):\n",
      "        if node.right != None: return self.tree_minimum(node)\n",
      "        y = node.parent\n",
      "        while y != None and node == y.right:\n",
      "            node = y\n",
      "            y = y.parent\n",
      "        return y\n",
      "            \n",
      "   \n",
      "        \n",
      "def inorder(root):\n",
      "    if root:\n",
      "        inorder(root.left)\n",
      "        print root.key\n",
      "        inorder(root.right)\n",
      "        \n",
      "        \n",
      "def print_tree(root):\n",
      "    '''Print the tree rooted at root.'''\n",
      "    print_helper(root, \"\")\n",
      "\n",
      "def print_helper(root, indent):\n",
      "    '''Print the tree rooted at BTNode root. Print str indent (which\n",
      "    consists only of whitespace) before the root value; indent more for the\n",
      "    subtrees so that it looks nice.'''\n",
      "    if root is not None:\n",
      "        print_helper(root.right, indent + \"   \")\n",
      "        print indent + str(root.val)\n",
      "        print_helper(root.left, indent + \"   \")\n",
      "\n",
      "   \n",
      "bst=BinarySearchTree()\n",
      "option = 0\n",
      "while option != 5:\n",
      "    print \"1. Add, 2. Delete, 3. Search, 4. Print, 5. S6uccessor, 6. Exit\"\n",
      "    option=input(\"Enter Option :\")\n",
      "    if option==1:\n",
      "        value=input(\"What Value to add: \")\n",
      "        bst.addition(value)\n",
      "    elif option==2:\n",
      "        value=input(\"What Value to delete: \")\n",
      "        bst.deletion(TreeNode(value))\n",
      "    elif option==3:\n",
      "        value=input(\"What Value to search: \")\n",
      "        temp = bst.search(value)\n",
      "        if temp == None: print \"Not Found\"\n",
      "        else: print \"Found\"            \n",
      "    elif option==4:\n",
      "        print \"Printing tree in left to right fashion\"\n",
      "        print_tree(bst.root)\n",
      "    elif option==5:\n",
      "        value=input(\"Whos Successor: \")\n",
      "        node = bst.successor(bst.search(value))\n",
      "        print \"Successor is: \", node.val\n",
      "    elif option==6:\n",
      "        break\n",
      "    else:\n",
      "        print \"Wrong Option\"\n",
      "    "
     ],
     "language": "python",
     "metadata": {},
     "outputs": [
      {
       "output_type": "stream",
       "stream": "stdout",
       "text": [
        " 1. Add, 2. Delete, 3. Search, 4. Print, 5. S6uccessor, 6. Exit\n"
       ]
      },
      {
       "name": "stdout",
       "output_type": "stream",
       "stream": "stdout",
       "text": [
        "Enter Option :1\n"
       ]
      },
      {
       "name": "stdout",
       "output_type": "stream",
       "stream": "stdout",
       "text": [
        "What Value to add: 45\n"
       ]
      },
      {
       "output_type": "stream",
       "stream": "stdout",
       "text": [
        "1. Add, 2. Delete, 3. Search, 4. Print, 5. S6uccessor, 6. Exit\n"
       ]
      },
      {
       "name": "stdout",
       "output_type": "stream",
       "stream": "stdout",
       "text": [
        "Enter Option :1\n"
       ]
      },
      {
       "name": "stdout",
       "output_type": "stream",
       "stream": "stdout",
       "text": [
        "What Value to add: 12\n"
       ]
      },
      {
       "output_type": "stream",
       "stream": "stdout",
       "text": [
        "1. Add, 2. Delete, 3. Search, 4. Print, 5. S6uccessor, 6. Exit\n"
       ]
      },
      {
       "name": "stdout",
       "output_type": "stream",
       "stream": "stdout",
       "text": [
        "Enter Option :1\n"
       ]
      },
      {
       "name": "stdout",
       "output_type": "stream",
       "stream": "stdout",
       "text": [
        "What Value to add: 7\n"
       ]
      },
      {
       "output_type": "stream",
       "stream": "stdout",
       "text": [
        "1. Add, 2. Delete, 3. Search, 4. Print, 5. S6uccessor, 6. Exit\n"
       ]
      },
      {
       "name": "stdout",
       "output_type": "stream",
       "stream": "stdout",
       "text": [
        "Enter Option :1\n"
       ]
      },
      {
       "name": "stdout",
       "output_type": "stream",
       "stream": "stdout",
       "text": [
        "What Value to add: 8\n"
       ]
      },
      {
       "output_type": "stream",
       "stream": "stdout",
       "text": [
        "1. Add, 2. Delete, 3. Search, 4. Print, 5. S6uccessor, 6. Exit\n"
       ]
      },
      {
       "name": "stdout",
       "output_type": "stream",
       "stream": "stdout",
       "text": [
        "Enter Option :1\n"
       ]
      },
      {
       "name": "stdout",
       "output_type": "stream",
       "stream": "stdout",
       "text": [
        "What Value to add: 55\n"
       ]
      },
      {
       "output_type": "stream",
       "stream": "stdout",
       "text": [
        "1. Add, 2. Delete, 3. Search, 4. Print, 5. S6uccessor, 6. Exit\n"
       ]
      },
      {
       "name": "stdout",
       "output_type": "stream",
       "stream": "stdout",
       "text": [
        "Enter Option :3\n"
       ]
      },
      {
       "name": "stdout",
       "output_type": "stream",
       "stream": "stdout",
       "text": [
        "What Value to search: 7\n"
       ]
      },
      {
       "output_type": "stream",
       "stream": "stdout",
       "text": [
        "Found\n",
        "1. Add, 2. Delete, 3. Search, 4. Print, 5. S6uccessor, 6. Exit\n"
       ]
      },
      {
       "name": "stdout",
       "output_type": "stream",
       "stream": "stdout",
       "text": [
        "Enter Option :3\n"
       ]
      },
      {
       "name": "stdout",
       "output_type": "stream",
       "stream": "stdout",
       "text": [
        "What Value to search: 55\n"
       ]
      },
      {
       "output_type": "stream",
       "stream": "stdout",
       "text": [
        "Found\n",
        "1. Add, 2. Delete, 3. Search, 4. Print, 5. S6uccessor, 6. Exit\n"
       ]
      },
      {
       "name": "stdout",
       "output_type": "stream",
       "stream": "stdout",
       "text": [
        "Enter Option :3\n"
       ]
      },
      {
       "name": "stdout",
       "output_type": "stream",
       "stream": "stdout",
       "text": [
        "What Value to search: 56\n"
       ]
      },
      {
       "output_type": "stream",
       "stream": "stdout",
       "text": [
        "Not Found\n",
        "1. Add, 2. Delete, 3. Search, 4. Print, 5. S6uccessor, 6. Exit\n"
       ]
      },
      {
       "name": "stdout",
       "output_type": "stream",
       "stream": "stdout",
       "text": [
        "Enter Option :5\n"
       ]
      },
      {
       "name": "stdout",
       "output_type": "stream",
       "stream": "stdout",
       "text": [
        "Whos Successor: 55\n"
       ]
      },
      {
       "output_type": "stream",
       "stream": "stdout",
       "text": [
        "Successor is: "
       ]
      },
      {
       "ename": "AttributeError",
       "evalue": "'NoneType' object has no attribute 'val'",
       "output_type": "pyerr",
       "traceback": [
        "\u001b[1;31m---------------------------------------------------------------------------\u001b[0m\n\u001b[1;31mAttributeError\u001b[0m                            Traceback (most recent call last)",
        "\u001b[1;32m<ipython-input-7-1f2d78dfb859>\u001b[0m in \u001b[0;36m<module>\u001b[1;34m()\u001b[0m\n\u001b[0;32m    109\u001b[0m         \u001b[0mvalue\u001b[0m\u001b[1;33m=\u001b[0m\u001b[0minput\u001b[0m\u001b[1;33m(\u001b[0m\u001b[1;34m\"Whos Successor: \"\u001b[0m\u001b[1;33m)\u001b[0m\u001b[1;33m\u001b[0m\u001b[0m\n\u001b[0;32m    110\u001b[0m         \u001b[0mnode\u001b[0m \u001b[1;33m=\u001b[0m \u001b[0mbst\u001b[0m\u001b[1;33m.\u001b[0m\u001b[0msuccessor\u001b[0m\u001b[1;33m(\u001b[0m\u001b[0mbst\u001b[0m\u001b[1;33m.\u001b[0m\u001b[0msearch\u001b[0m\u001b[1;33m(\u001b[0m\u001b[0mvalue\u001b[0m\u001b[1;33m)\u001b[0m\u001b[1;33m)\u001b[0m\u001b[1;33m\u001b[0m\u001b[0m\n\u001b[1;32m--> 111\u001b[1;33m         \u001b[1;32mprint\u001b[0m \u001b[1;34m\"Successor is: \"\u001b[0m\u001b[1;33m,\u001b[0m \u001b[0mnode\u001b[0m\u001b[1;33m.\u001b[0m\u001b[0mval\u001b[0m\u001b[1;33m\u001b[0m\u001b[0m\n\u001b[0m\u001b[0;32m    112\u001b[0m     \u001b[1;32melif\u001b[0m \u001b[0moption\u001b[0m\u001b[1;33m==\u001b[0m\u001b[1;36m6\u001b[0m\u001b[1;33m:\u001b[0m\u001b[1;33m\u001b[0m\u001b[0m\n\u001b[0;32m    113\u001b[0m         \u001b[1;32mbreak\u001b[0m\u001b[1;33m\u001b[0m\u001b[0m\n",
        "\u001b[1;31mAttributeError\u001b[0m: 'NoneType' object has no attribute 'val'"
       ]
      }
     ],
     "prompt_number": 7
    },
    {
     "cell_type": "heading",
     "level": 3,
     "metadata": {},
     "source": [
      "Question 4: Binary Tree Crawler"
     ]
    },
    {
     "cell_type": "markdown",
     "metadata": {},
     "source": [
      "In this program the computer takes input from\n",
      "the user before performing any operation. The operations that need to be\n",
      "supported are 1. Move 2. Add 3. Print. The program shows a menu:\n",
      "    \n",
      "1. Move\n",
      "2. Add\n",
      "3. Print\n",
      "4. Exit\n",
      "\n",
      "If the user picks 1, then the program asks for a movement pattern. For\n",
      "example if the user gives \u201cLLRRL\u201d the program starts from the current\n",
      "node and moves left, again to the left followed by two right movements and\n",
      "finally a left movement. If the movement is not possible then it reports\n",
      "that and stays in the current node otherwise the current node is updated.\n",
      "Further movement starts from the new node. A movement pattern is a\n",
      "string with letters L, R, P, r where L=left, R=Right, P=Parent, r=root.\n",
      "In operation 2 the program tries to add a new node to the left or right of\n",
      "the current node. If the user picks 2, the program asks \u201cLeft or Right?\u201d.\n",
      "Suppose the user picks \u201cL\u201d then if the left child of the current node is\n",
      "\u201cNil\u201d it asks for a value and adds a node with the value as the left child\n",
      "of the current node. If the left child is not nil, it says \u201cCannot Add, Place\n",
      "not empty\u201d.\n",
      "The print operation prints the binary tree. The output should match the\n",
      "picture of the tree. For example the text based console output may look\n",
      "like\n",
      "\n",
      "    10\n",
      "    /\\\n",
      "    / \\\n",
      "    20 11\n",
      "    / \\\n",
      "    / \\\n",
      "    2 8\n",
      "    2"
     ]
    },
    {
     "cell_type": "code",
     "collapsed": false,
     "input": [
      "class BinarySearchTree:\n",
      "    def __init__(self):\n",
      "        \"\"\" create an empty binary search tree \"\"\"\n",
      "        self.root = None\n",
      "        self.current = None\n",
      "        \n",
      "    def move(self, code):\n",
      "        "
     ],
     "language": "python",
     "metadata": {},
     "outputs": []
    }
   ],
   "metadata": {}
  }
 ]
}