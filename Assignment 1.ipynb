{
 "metadata": {
  "name": "",
  "signature": "sha256:afd2aa2ae98591e05429be7ef3f236a3b66eaebe0a0eb34fba1b79d36420e2e3"
 },
 "nbformat": 3,
 "nbformat_minor": 0,
 "worksheets": [
  {
   "cells": [
    {
     "cell_type": "heading",
     "level": 3,
     "metadata": {},
     "source": [
      "Shivam Mani Tripathi\n",
      "11110096"
     ]
    },
    {
     "cell_type": "markdown",
     "metadata": {},
     "source": [
      "Here's the code that Sir gave:"
     ]
    },
    {
     "cell_type": "code",
     "collapsed": false,
     "input": [
      "#-----------Node Definitation-------------\n",
      "class Node():\n",
      "    def __init__(self,value):\n",
      "        self.val=value\n",
      "        self.next=None\n",
      "    \n",
      "#-----------Linked List Definition--------\n",
      "class LinkedList():\n",
      "    def __init__(svayam):\n",
      "        svayam.head=None\n",
      "        \n",
      "    def insert(self,val):\n",
      "        temp=Node(val)\n",
      "        temp.next=self.head\n",
      "        self.head=temp\n",
      "        \n",
      "    def printL(self):\n",
      "        \n",
      "        temp=self.head\n",
      "        print \"Head <--\",\n",
      "        while temp!=None:\n",
      "            print temp.val, \"<--\",\n",
      "            temp=temp.next\n",
      "        print \"Tail\\n\"\n",
      "            \n",
      "    def delete(self,v):\n",
      "        if self.head == None:\n",
      "            print \"Empty List\"\n",
      "            return\n",
      "        if self.head.val==v:\n",
      "            self.head=self.head.next\n",
      "            return\n",
      "        prev=self.head\n",
      "        cur=self.head.next\n",
      "        while cur!=None and cur.val!=v:\n",
      "            cur=cur.next\n",
      "            prev=prev.next\n",
      "        if cur==None:\n",
      "            print \"Not found\"\n",
      "        else:\n",
      "            prev.next=cur.next\n",
      "\n",
      "def print_tree(root):\n",
      "    '''Print the tree rooted at root.''' \n",
      "    print_helper(root, \"\")\n",
      "\n",
      "def print_helper(root, indent):\n",
      "    '''Print the tree rooted at BTNode root. Print str indent (which\n",
      "    consists only of whitespace) before the root value; indent more for the\n",
      "    subtrees so that it looks nice.'''\n",
      "    if root is not None:\n",
      "        print_helper(root.right, indent + \"   \")\n",
      "        print  \"  \" +indent + \"/\"\n",
      "        print indent + str(root.val)\n",
      "        print \"  \" +indent + \"\\\\\"\n",
      "        print_helper(root.left, indent + \"   \")\n",
      "\n",
      "class TreeNode:\n",
      "    def __init__(self,  val):\n",
      "        self.val = val\n",
      "        self.left = None\n",
      "        self.right = None\n",
      "        self.parent = None\n",
      "        \n",
      "#--------- Menu --------------------\n",
      "ll=LinkedList()\n",
      "option = 0\n",
      "while option != 4:\n",
      "    print \"1. Add 2. Delete 3. Print 4. Exit\"\n",
      "    option=input(\"Option :\")\n",
      "    if option==1:\n",
      "        value=input(\"What Value to add: \")\n",
      "        ll.insert(value)\n",
      "    elif option==2:\n",
      "        value=input(\"What Value to delete: \")\n",
      "        ll.delete(value)\n",
      "    elif option==3:\n",
      "        ll.printL()\n",
      "    elif option==4:\n",
      "        break\n",
      "    else:\n",
      "        print \"Wrong Option\"\n"
     ],
     "language": "python",
     "metadata": {},
     "outputs": [
      {
       "output_type": "stream",
       "stream": "stdout",
       "text": [
        "1. Add 2. Delete 3. Print 4. Exit\n"
       ]
      },
      {
       "name": "stdout",
       "output_type": "stream",
       "stream": "stdout",
       "text": [
        "Option :4\n"
       ]
      }
     ],
     "prompt_number": 7
    },
    {
     "cell_type": "heading",
     "level": 3,
     "metadata": {},
     "source": [
      "Runner Loop"
     ]
    },
    {
     "cell_type": "heading",
     "level": 3,
     "metadata": {},
     "source": [
      "Question One"
     ]
    },
    {
     "cell_type": "markdown",
     "metadata": {},
     "source": [
      "Q1. Linked List in Sorted order In a ordinary linked list the elements does\n",
      "    not have any order. Thus if we want to sort the elements in a linked list it\n",
      "    might take O(n log n) time. But if the elements are stored in sorted order\n",
      "    the runtime can be reduced. Write a program to store elements in sorted\n",
      "    order. Your program must support the following functions a) Insertion\n",
      "    (this is the place where you need to store the incoming element in its\n",
      "    correct place) b) Search if an element is present in the list c) Deletion\n",
      "    (only one occurrence is deleted) e) Print (prints the list in sorted order).\n",
      "    The program should show a menu to the user\n",
      "    \n",
      "1. Insert\n",
      "2. Search\n",
      "3. Delete\n",
      "4. Print\n",
      "5. Exit\n",
      "\n",
      "If the user picks 1, your program should then ask Value of the new\n",
      "element ?: , etc. Once an operation is finished it must go back to\n",
      "the menu. Example of a menu based program is given below. (filename:\n",
      "LinkedList)\n"
     ]
    },
    {
     "cell_type": "code",
     "collapsed": false,
     "input": [
      "from random import randint\n",
      "\n",
      "class SortedLinkedList(LinkedList):\n",
      "    def __init__(svayam):\n",
      "        svayam.head=None\n",
      "        svayam.first_node = None\n",
      "    \n",
      "    def insert(self,val):\n",
      "        temp=Node(val)\n",
      "        temp_head = self.head\n",
      "        if self.head == None: \n",
      "            self.first_node = temp\n",
      "            self.head = temp\n",
      "            return None\n",
      "        temp_head_prev = None\n",
      "        while temp_head!=None  and temp_head.val < val:\n",
      "            temp_head_prev = temp_head\n",
      "            temp_head = temp_head.next\n",
      "        temp.next = temp_head\n",
      "        if temp_head_prev != None: \n",
      "            temp_head_prev.next = temp\n",
      "        else: self.first_node =temp \n",
      "        self.head=self.first_node\n",
      "        \n",
      "#--------- Menu --------------------\n",
      "ll=SortedLinkedList()\n",
      "option = 0\n",
      "while option != 5:\n",
      "    print \"1. Add 2. Delete 3. Print 4. Random Testing  5. Exit\"\n",
      "    option=input(\"Option :\")\n",
      "    if option==1:\n",
      "        value=input(\"What Value to add: \")\n",
      "        ll.insert(value)\n",
      "    elif option==2:\n",
      "        value=input(\"What Value to delete: \")\n",
      "        ll.delete(value)\n",
      "    elif option==3:\n",
      "        ll.printL()\n",
      "    elif option == 4:\n",
      "        print \"Random Sequence: \",\n",
      "        for i in range(15):\n",
      "            num = randint(0,9)\n",
      "            print num,\" ,\",\n",
      "            ll.insert(num)\n",
      "        print \"\\n\"\n",
      "        ll.printL()\n",
      "    elif option==5:\n",
      "        break\n",
      "    else:\n",
      "        print \"Wrong Option\"\n"
     ],
     "language": "python",
     "metadata": {},
     "outputs": [
      {
       "output_type": "stream",
       "stream": "stdout",
       "text": [
        "1. Add 2. Delete 3. Print 4. Random Testing  5. Exit\n"
       ]
      },
      {
       "name": "stdout",
       "output_type": "stream",
       "stream": "stdout",
       "text": [
        "Option :4\n"
       ]
      },
      {
       "output_type": "stream",
       "stream": "stdout",
       "text": [
        "Random Sequence: \n",
        "8  , 7  , 2  , 2  , 6  , 3  , 5  , 2  , 2  , 0  , 6  , 8  , 8  , 7  , 1  , \n",
        "\n",
        "Head <-- 0 <-- 1 <-- 2 <-- 2 <-- 2 <-- 2 <-- 3 <-- 5 <-- 6 <-- 6 <-- 7 <-- 7 <-- 8 <-- 8 <-- 8 <-- Tail\n",
        "\n",
        "1. Add 2. Delete 3. Print 4. Random Testing  5. Exit\n"
       ]
      },
      {
       "name": "stdout",
       "output_type": "stream",
       "stream": "stdout",
       "text": [
        "Option :2\n"
       ]
      },
      {
       "name": "stdout",
       "output_type": "stream",
       "stream": "stdout",
       "text": [
        "What Value to delete: 2\n"
       ]
      },
      {
       "output_type": "stream",
       "stream": "stdout",
       "text": [
        "1. Add 2. Delete 3. Print 4. Random Testing  5. Exit\n"
       ]
      },
      {
       "name": "stdout",
       "output_type": "stream",
       "stream": "stdout",
       "text": [
        "Option :3\n"
       ]
      },
      {
       "output_type": "stream",
       "stream": "stdout",
       "text": [
        "Head <-- 0 <-- 1 <-- 2 <-- 2 <-- 2 <-- 3 <-- 5 <-- 6 <-- 6 <-- 7 <-- 7 <-- 8 <-- 8 <-- 8 <-- Tail\n",
        "\n",
        "1. Add 2. Delete 3. Print 4. Random Testing  5. Exit\n"
       ]
      },
      {
       "name": "stdout",
       "output_type": "stream",
       "stream": "stdout",
       "text": [
        "Option :5\n"
       ]
      }
     ],
     "prompt_number": 4
    },
    {
     "cell_type": "heading",
     "level": 3,
     "metadata": {},
     "source": [
      "Question 2: Stack Using Linked List "
     ]
    },
    {
     "cell_type": "markdown",
     "metadata": {},
     "source": [
      "The array implementation of stack cannot handle\n",
      "more elements than the size of the array. This can be avoided if the\n",
      "stack is implemented using a linked list. Support Push, Pop and IsEmpty\n",
      "operations. Write a menu based program. (filename:StackUsingLinkedList)"
     ]
    },
    {
     "cell_type": "code",
     "collapsed": false,
     "input": [
      "from random import randint\n",
      "\n",
      "\n",
      "class StackUsingLinkedList(LinkedList):\n",
      "    def __init__(svayam):\n",
      "        svayam.head=None\n",
      "        \n",
      "    def isEmpty(self):\n",
      "        if self.head == None:\n",
      "            return True\n",
      "        return False\n",
      "    \n",
      "    def Push(self, val):\n",
      "        self.insert(val)\n",
      "        \n",
      "    def Pop(self):\n",
      "        if(self.isEmpty()):\n",
      "             \n",
      "            return \"Underflow Error\"\n",
      "        else:\n",
      "            val = self.head.val\n",
      "            self.head = self.head.next\n",
      "        return val\n",
      "\n",
      "stack=StackUsingLinkedList()\n",
      "option = 0\n",
      "while option != 5:\n",
      "    print \"\\n1. Push 2. Pop 3. Print 4. Random Testing  5. Exit\"\n",
      "    option=input(\"Option :\")\n",
      "    if option==1:\n",
      "        value=input(\"What Value to Push: \")\n",
      "        stack.Push(value)\n",
      "    elif option==2:\n",
      "        print \"Popped: \", stack.Pop()\n",
      "    elif option==3:\n",
      "        stack.printL()\n",
      "    elif option == 4:\n",
      "        print \"Operation Sequence |  Result \",\n",
      "        for i in range(15):\n",
      "            num = randint(0,9)\n",
      "            operation = randint(1,2)\n",
      "            if operation == 1:\n",
      "                print \"Push: \", num\n",
      "                stack.Push(num)\n",
      "            elif operation ==2:\n",
      "                print \"Pop: \", stack.Pop()\n",
      "\n",
      "        print \"\\n\"\n",
      "        stack.printL()    \n",
      "    elif option==5:\n",
      "        break\n",
      "    else:\n",
      "        print \"Wrong Option\"\n",
      "\n"
     ],
     "language": "python",
     "metadata": {},
     "outputs": [
      {
       "output_type": "stream",
       "stream": "stdout",
       "text": [
        "1. Push 2. Pop 3. Print 4. Random Testing  5. Exit\n"
       ]
      },
      {
       "name": "stdout",
       "output_type": "stream",
       "stream": "stdout",
       "text": [
        "Option :4\n"
       ]
      },
      {
       "output_type": "stream",
       "stream": "stdout",
       "text": [
        "Operation Sequence |  Result  Pop:  Underflow Error\n",
        "Push:  6\n",
        "Pop:  6\n",
        "Pop:  Underflow Error\n",
        "Pop:  Underflow Error\n",
        "Pop:  Underflow Error\n",
        "Push:  6\n",
        "Push:  0\n",
        "Pop:  0\n",
        "Pop:  6\n",
        "Pop:  Underflow Error\n",
        "Pop:  Underflow Error\n",
        "Push:  5\n",
        "Push:  5\n",
        "Push:  2\n",
        "\n",
        "\n",
        "Head <-- 2 <-- 5 <-- 5 <-- Tail\n",
        "\n",
        "1. Push 2. Pop 3. Print 4. Random Testing  5. Exit\n"
       ]
      },
      {
       "name": "stdout",
       "output_type": "stream",
       "stream": "stdout",
       "text": [
        "Option :5\n"
       ]
      }
     ],
     "prompt_number": 5
    },
    {
     "cell_type": "heading",
     "level": 3,
     "metadata": {},
     "source": [
      "Question 3: Binary Search Tree "
     ]
    },
    {
     "cell_type": "markdown",
     "metadata": {},
     "source": [
      "Write a program to implement binary search tree. Support:\n",
      "\n",
      "1. search \n",
      "2. addition \n",
      "3. deletion \n",
      "4. successor. \n",
      "\n",
      "Again write a\n",
      "menu base program. (filename: BST)\n",
      "\n",
      "\n",
      "Answer: From Thomas Coreman, we have following pseduo code:\n",
      "\n",
      "     \n",
      "  "
     ]
    },
    {
     "cell_type": "code",
     "collapsed": false,
     "input": [
      "class BinarySearchTree:\n",
      "    def __init__(self):\n",
      "        \"\"\" create an empty binary search tree \"\"\"\n",
      "        self.root = None\n",
      "        \n",
      "    def search(self ,val):\n",
      "        return self.recurive_search(self.root, val)\n",
      "    \n",
      "    def recurive_search(self, node, val):\n",
      "        if node == None or val == node.val : return node\n",
      "        if val < node.val:\n",
      "            return self.recurive_search(node.left , val)\n",
      "        else: return self.recurive_search(node.right , val)\n",
      "        \n",
      "    def tree_minimum(self, node):\n",
      "        while node.left != None:\n",
      "            node = node.left\n",
      "        return node\n",
      "            \n",
      "    def addition(self ,val):\n",
      "        new_node = TreeNode(val)\n",
      "        y = None\n",
      "        x = self.root\n",
      "        while x != None:\n",
      "            y=x\n",
      "            if new_node.val < x.val: x = x.left\n",
      "            else: x = x.right\n",
      "        new_node.parent = y\n",
      "        if y == None: self.root = new_node\n",
      "        else:\n",
      "            if new_node.val < y.val: y.left = new_node\n",
      "            else: y.right = new_node\n",
      "        \n",
      "        \n",
      "    def deletion(self ,node):\n",
      "        if node.left == None or node.right == None: y = node\n",
      "        else : y = self.successor(node)\n",
      "        \n",
      "        if y.left == None: x = y.left\n",
      "        else: x = y.right\n",
      "        if x == None: x.parent = y.parent\n",
      "            \n",
      "        if y.parent == None: self.root = x\n",
      "        elif y == y.parent.left: y.parent.left = x\n",
      "        else: y.parent.right = x\n",
      "            \n",
      "        if y!= node:  node.val = y.val\n",
      "        return y\n",
      "        \n",
      "            \n",
      "    def successor(self ,node):\n",
      "        if node.right != None: return self.tree_minimum(node)\n",
      "        y = node.parent\n",
      "        while y != None and node == y.right:\n",
      "            node = y\n",
      "            y = y.parent\n",
      "        return y\n",
      "                    \n",
      "\n",
      "   \n",
      "bst=BinarySearchTree()\n",
      "option = 0\n",
      "while option != 6:\n",
      "    print \"\\n1. Add, 2. Delete, 3. Search, 4. Print, 5. Successor, 6. Exit\"\n",
      "    option=input(\"Enter Option :\")\n",
      "    if option==1:\n",
      "        value=input(\"What Value to add: \")\n",
      "        bst.addition(value)\n",
      "    elif option==2:\n",
      "        value=input(\"What Value to delete: \")\n",
      "        bst.deletion(TreeNode(value))\n",
      "    elif option==3:\n",
      "        value=input(\"What Value to search: \")\n",
      "        temp = bst.search(value)\n",
      "        if temp == None: print \"Not Found\"\n",
      "        else: print \"Found\"            \n",
      "    elif option==4:\n",
      "        print \"Printing tree in left to right fashion\"\n",
      "        print_tree(bst.root)\n",
      "    elif option==5:\n",
      "        value=input(\"Whos Successor: \")\n",
      "        node = bst.successor(bst.search(value))\n",
      "        if node == None :print \"No successor\"\n",
      "        else: print \"Successor is: \", node.val\n",
      "    elif option==6:\n",
      "        break\n",
      "    else:\n",
      "        print \"Wrong Option\"\n",
      "    "
     ],
     "language": "python",
     "metadata": {},
     "outputs": [
      {
       "output_type": "stream",
       "stream": "stdout",
       "text": [
        "\n",
        "1. Add, 2. Delete, 3. Search, 4. Print, 5. Successor, 6. Exit\n"
       ]
      },
      {
       "name": "stdout",
       "output_type": "stream",
       "stream": "stdout",
       "text": [
        "Enter Option :1\n"
       ]
      },
      {
       "name": "stdout",
       "output_type": "stream",
       "stream": "stdout",
       "text": [
        "What Value to add: 45\n"
       ]
      },
      {
       "output_type": "stream",
       "stream": "stdout",
       "text": [
        "\n",
        "1. Add, 2. Delete, 3. Search, 4. Print, 5. Successor, 6. Exit\n"
       ]
      },
      {
       "name": "stdout",
       "output_type": "stream",
       "stream": "stdout",
       "text": [
        "Enter Option :1\n"
       ]
      },
      {
       "name": "stdout",
       "output_type": "stream",
       "stream": "stdout",
       "text": [
        "What Value to add: 65\n"
       ]
      },
      {
       "output_type": "stream",
       "stream": "stdout",
       "text": [
        "\n",
        "1. Add, 2. Delete, 3. Search, 4. Print, 5. Successor, 6. Exit\n"
       ]
      },
      {
       "name": "stdout",
       "output_type": "stream",
       "stream": "stdout",
       "text": [
        "Enter Option :1\n"
       ]
      },
      {
       "name": "stdout",
       "output_type": "stream",
       "stream": "stdout",
       "text": [
        "What Value to add: 1\n"
       ]
      },
      {
       "output_type": "stream",
       "stream": "stdout",
       "text": [
        "\n",
        "1. Add, 2. Delete, 3. Search, 4. Print, 5. Successor, 6. Exit\n"
       ]
      },
      {
       "name": "stdout",
       "output_type": "stream",
       "stream": "stdout",
       "text": [
        "Enter Option :1\n"
       ]
      },
      {
       "name": "stdout",
       "output_type": "stream",
       "stream": "stdout",
       "text": [
        "What Value to add: 5\n"
       ]
      },
      {
       "output_type": "stream",
       "stream": "stdout",
       "text": [
        "\n",
        "1. Add, 2. Delete, 3. Search, 4. Print, 5. Successor, 6. Exit\n"
       ]
      },
      {
       "name": "stdout",
       "output_type": "stream",
       "stream": "stdout",
       "text": [
        "Enter Option :4\n"
       ]
      },
      {
       "output_type": "stream",
       "stream": "stdout",
       "text": [
        "Printing tree in left to right fashion\n",
        "   65\n",
        "45\n",
        "      5\n",
        "   1\n",
        "\n",
        "1. Add, 2. Delete, 3. Search, 4. Print, 5. Successor, 6. Exit\n"
       ]
      }
     ]
    },
    {
     "cell_type": "heading",
     "level": 3,
     "metadata": {},
     "source": [
      "Question 4: Binary Tree Crawler"
     ]
    },
    {
     "cell_type": "markdown",
     "metadata": {},
     "source": [
      "In this program the computer takes input from\n",
      "the user before performing any operation. The operations that need to be\n",
      "supported are 1. Move 2. Add 3. Print. The program shows a menu:\n",
      "    \n",
      "1. Move\n",
      "2. Add\n",
      "3. Print\n",
      "4. Exit\n",
      "\n",
      "If the user picks 1, then the program asks for a movement pattern. For\n",
      "example if the user gives \u201cLLRRL\u201d the program starts from the current\n",
      "node and moves left, again to the left followed by two right movements and\n",
      "finally a left movement. If the movement is not possible then it reports\n",
      "that and stays in the current node otherwise the current node is updated.\n",
      "Further movement starts from the new node. A movement pattern is a\n",
      "string with letters L, R, P, r where L=left, R=Right, P=Parent, r=root.\n",
      "In operation 2 the program tries to add a new node to the left or right of\n",
      "the current node. If the user picks 2, the program asks \u201cLeft or Right?\u201d.\n",
      "Suppose the user picks \u201cL\u201d then if the left child of the current node is\n",
      "\u201cNil\u201d it asks for a value and adds a node with the value as the left child\n",
      "of the current node. If the left child is not nil, it says \u201cCannot Add, Place\n",
      "not empty\u201d.\n",
      "The print operation prints the binary tree. The output should match the\n",
      "picture of the tree. For example the text based console output may look\n",
      "like\n",
      "\n",
      "    10\n",
      "    /\\\n",
      "    / \\\n",
      "    20 11\n",
      "    / \\\n",
      "    / \\\n",
      "    2 8\n",
      "    2"
     ]
    },
    {
     "cell_type": "code",
     "collapsed": false,
     "input": [
      "class SearchTreeCrawler():\n",
      "    def __init__(self):\n",
      "        \"\"\" create an empty binary search tree \"\"\"\n",
      "        self.root = None\n",
      "        self.current = None\n",
      "        \n",
      "    def move(self, code):\n",
      "\n",
      "        if self.current == None or self.root == None: print \"\\n No node exists.\"\n",
      "        elif code == 'L':\n",
      "            if self.current.left == None: print \"\\n Cannot Move to: \",code,\". Node doesn't exists. Executing Next command..\" \n",
      "            else:\n",
      "                self.current = self.current.left\n",
      "        elif code == 'R':\n",
      "            if self.current.right == None: print \"\\n Cannot Move to: \",code,\". Node doesn't exists. Executing Next command ..\" \n",
      "            else: self.current = self.current.right\n",
      "        elif code == 'P':\n",
      "            self.current = self.current.parent\n",
      "        elif code == 'r':\n",
      "            self.current = self.root\n",
      "            \n",
      "    def add(self, val):\n",
      "        temp = TreeNode(val)\n",
      "        if self.root == None: \n",
      "            self.root = temp\n",
      "            self.current = self.root\n",
      "        else:\n",
      "            option = raw_input(\"L for Left, R for Right: \")\n",
      "            if option == \"L\":\n",
      "                if self.current.left !=None: \n",
      "                    print \"\\n Cannot Add, Place not empty\"\n",
      "                    return None\n",
      "                self.current.left = temp\n",
      "                temp.parent = self.current\n",
      "            elif option == \"R\":\n",
      "                if self.current.right !=None:\n",
      "                    print \"\\n Cannot Add, Place not empty\"\n",
      "                    return None\n",
      "                self.current.right = temp\n",
      "                temp.parent = self.current\n",
      "            else: print \"\\n Invalid Selection\"\n",
      "                \n",
      "    def add_test(self, val, option):\n",
      "        temp = TreeNode(val)\n",
      "        if self.root == None: \n",
      "            self.root = temp\n",
      "            self.current = self.root\n",
      "        else:\n",
      "            \n",
      "            if option == \"L\":\n",
      "                if self.current.left !=None: \n",
      "                    print \"\\n Cannot Add, Place not empty\"\n",
      "                    return None\n",
      "                self.current.left = temp\n",
      "                temp.parent = self.current\n",
      "            elif option == \"R\":\n",
      "                if self.current.right !=None:\n",
      "                    print \"\\n Cannot Add, Place not empty\"\n",
      "                    return None\n",
      "                self.current.right = temp\n",
      "                temp.parent = self.current\n",
      "            else: print \"\\n Invalid Selection\"\n",
      "\n",
      "\n",
      "        \n",
      "\n",
      "bt = SearchTreeCrawler()\n",
      "option = 0\n",
      "while option != 5:\n",
      "    print \"\\n1. Move, 2. Add, 3. Print , 4. Random Testing, 5. Exit \"\n",
      "    if bt.current != None: print \"Current Node is: \", bt.current.val\n",
      "    option=input(\"Enter Option :\")\n",
      "    if option==1:\n",
      "        value=raw_input(\"Give movement Pattern: \")\n",
      "        commands = list(value)\n",
      "        for code in commands:\n",
      "            bt.move(code)\n",
      "    elif option==2:\n",
      "        value=input(\"What Value to add: \")\n",
      "        bt.add(value)\n",
      "    elif option==3:\n",
      "        print \"\\nPrinting tree in left to right fashion:\\n\"\n",
      "        print_tree(bt.root)\n",
      "    elif option == 4:\n",
      "        from random import randint\n",
      "        for i in range(4):\n",
      "            num = randint(0,99)\n",
      "            opt = i % 2\n",
      "            if opt == 0: bt.add_test(num, 'L')\n",
      "            else: bt.add_test(num, 'R')\n",
      "\n",
      "        print_tree(bt.root)\n",
      "    elif option==5:\n",
      "        break\n",
      "    else:\n",
      "        print \"Wrong Option\""
     ],
     "language": "python",
     "metadata": {},
     "outputs": [
      {
       "output_type": "stream",
       "stream": "stdout",
       "text": [
        "\n",
        "1. Move, 2. Add, 3. Print , 4. Random Testing, 5. Exit \n"
       ]
      },
      {
       "name": "stdout",
       "output_type": "stream",
       "stream": "stdout",
       "text": [
        "Enter Option :4\n"
       ]
      },
      {
       "output_type": "stream",
       "stream": "stdout",
       "text": [
        "\n",
        " Cannot Add, Place not empty\n",
        "     /\n",
        "   7\n",
        "     \\\n",
        "  /\n",
        "11\n",
        "  \\\n",
        "     /\n",
        "   70\n",
        "     \\\n",
        "\n",
        "1. Move, 2. Add, 3. Print , 4. Random Testing, 5. Exit \n",
        "Current Node is:  11\n"
       ]
      },
      {
       "name": "stdout",
       "output_type": "stream",
       "stream": "stdout",
       "text": [
        "Enter Option :5\n"
       ]
      }
     ],
     "prompt_number": 8
    }
   ],
   "metadata": {}
  }
 ]
}