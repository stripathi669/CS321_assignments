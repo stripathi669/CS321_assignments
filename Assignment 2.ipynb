{
 "metadata": {
  "name": "",
  "signature": "sha256:568250283a65a0e311d0f22ae62ad2be001fc40e05bd924304e83a91bf2e4a2e"
 },
 "nbformat": 3,
 "nbformat_minor": 0,
 "worksheets": [
  {
   "cells": [
    {
     "cell_type": "heading",
     "level": 2,
     "metadata": {},
     "source": [
      "Question 1: Find huffman Code"
     ]
    },
    {
     "cell_type": "markdown",
     "metadata": {},
     "source": [
      "1. File Compression Write a program that on input a simple ASCII text\n",
      "\n",
      "file does the following:\n",
      "\n",
      "    \u2022 Finds all the characters appearing in the file.\n",
      "    \u2022 Counts the frequencies of all the characters.\n",
      "    \u2022 Constructs and shows the Huffman code corresponding to the computed\n",
      "    frequencies.\n",
      "    \u2022 Encodes your file using the code (Hint: Bitwise operator).\n",
      "    \u2022 Computes the compression ratio Output File size / Input File size "
     ]
    },
    {
     "cell_type": "code",
     "collapsed": false,
     "input": [
      "def generate_random_text_file(length = 200, debug = False):\n",
      "    \"\"\"generate a text file with random string\"\"\"\n",
      "    text_file = open(\"./random_text.txt\",\"w\")\n",
      "    import random, string\n",
      "    random_string = ''.join([random.choice(string.ascii_letters + string.digits) for n in xrange(length)])\n",
      "    if debug: print random_string\n",
      "    text_file.write(random_string)\n",
      "    text_file.close()\n",
      "    \n",
      "def load_file_char_freq(path_to_file= \"./random_text.txt\", debug = False):\n",
      "    \"\"\"Load a file, and get frequencies of each character. Out is a dictionary in form {\"char\": 'freq'}\"\"\"\n",
      "    path = raw_input(\"Relative path to text file. Leave blank for to generate random text: \")\n",
      "    if path is \"\": generate_random_text_file()\n",
      "    else: path_to_file = path\n",
      "    \n",
      "    try:   text_file = open(path_to_file,\"r\")\n",
      "    except: \n",
      "        print \"File not found\"\n",
      "        raise IOError(\"No file found with that name\")\n",
      "    \n",
      "    text = text_file.read()\n",
      "    list_of_chars = list(text)\n",
      "    dict_of_chars= {}\n",
      "    for char in list_of_chars:\n",
      "        try: dict_of_chars[char] +=1\n",
      "        except: dict_of_chars[char] = 1\n",
      "    if debug: \n",
      "        print dict_of_chars\n",
      "        print text\n",
      "\n",
      "    text_file.close()\n",
      "    return dict_of_chars, text\n",
      "\n",
      "def calculate_compression(old_string, new_string):\n",
      "    \"\"\"Calculates ratio, which is nothing but ratio of string lengths. Since huffman stores in binary, we must devided by 8.\"\"\"\n",
      "    return len(new_string)/len(old_string) / 8.0 * 100.0\n",
      "\n",
      "def huffman_encode(dict_of_chars, debug = False):\n",
      "    \"\"\"Huffman encode the given dict mapping symbols to weights\n",
      "    Leaf is of form [ [freq, [symbol, code]]. Python gives min heap from via Heapify function\"\"\"\n",
      "    \n",
      "    heap = [[frequency, [char, \"\"]] for char, frequency in dict_of_chars.items()]   #Construct un Heapified heap\n",
      "    heapify(heap)  # Python's In place Minheap\n",
      "    if debug:  print \"Trying to Encode: \", sorted(dict_of_chars.iteritems())\n",
      "    while len(heap) > 1:\n",
      "        small_node = heappop(heap)         # Get smallest of  element from Min Heap\n",
      "        big_node = heappop(heap)           # Get second smallest  element\n",
      "        \n",
      "        # The idea is to dynamically generate codes. If node is pushed down-left, add a Zero. If pushed to down-right, add a one\n",
      "        \n",
      "        for node in small_node[1:]:       \n",
      "            node[1] = '0' + node[1]\n",
      "            \n",
      "        for node in big_node[1:]:\n",
      "            node[1] = '1' + node[1]\n",
      "        \n",
      "        # New node has sum of freq as new freq. All within subtree follow freq in list. Thier order is determined by thier code.\n",
      "        new_node = [small_node[0] + big_node[0]] + small_node[1:] + big_node[1:]  \n",
      "        \n",
      "        # Push to min heap\n",
      "        heappush(heap, new_node)\n",
      "    \n",
      "   \n",
      "    #Return all leaves, which are already in list format [ Symbol, code]\n",
      "    return heappop(heap)[1:]"
     ],
     "language": "python",
     "metadata": {},
     "outputs": [],
     "prompt_number": 1
    },
    {
     "cell_type": "markdown",
     "metadata": {},
     "source": [
      "The 'true' Huffman code creator assembles each symbol and its weight into the following structure initially (the leaf structure):\n",
      "\n",
      "`[ weight, [ symbol, []]]`\n",
      "\n",
      "The weight applies to every (in this case only one), of the \n",
      "\n",
      "`[symbol, []]`\n",
      "\n",
      "pairs after it in the same list.\n",
      "The empty list is used to accumulate the Huffman code for the symbol as we manipulate the heap, without having to walk a constructed tree structure.\n",
      "\n",
      "Source: from Paddy3118 Go deh!: Huffman Encoding in Python http://paddy3118.blogspot.com/2009/03/huffman-encoding-in-python.html#ixzz3XJn3fTAK"
     ]
    },
    {
     "cell_type": "code",
     "collapsed": false,
     "input": [
      "from heapq import heappush, heappop, heapify\n",
      "\n",
      "dict_of_chars, input_string = load_file_char_freq()\n",
      "codes  = huffman_encode(dict_of_chars)\n",
      "\n",
      "print \"Symbol\\t | Frequency\\t | Huffman Code\"\n",
      "print \"--------------------------------------\"\n",
      "for code in codes:\n",
      "    print \"%s \\t\\t %s \\t\\t %s\" % (code[0], dict_of_chars[code[0]], code[1])\n",
      "    \n",
      "huff_code_dict = {}\n",
      "for code in codes: huff_code_dict[code[0]] = code[1]\n",
      "    \n",
      "\n",
      "new_string= ''\n",
      "for symbol in list(input_string):\n",
      "    new_string += huff_code_dict[symbol]\n",
      "\n",
      "print \"------------- Calculating Compression Ratio--------------------------\"\n",
      "print \"Original Char length: \", len(input_string) \n",
      "print \"Original Binary length: \", str(len(input_string) * 8.0)\n",
      "print \"New Binary length: \", len(new_string) \n",
      "print \"Compression Ratio is: \",calculate_compression(input_string, new_string),\"%\"\n",
      " "
     ],
     "language": "python",
     "metadata": {},
     "outputs": [
      {
       "name": "stdout",
       "output_type": "stream",
       "stream": "stdout",
       "text": [
        "Relative path to text file. Leave blank for to generate random text: wiki.txt\n"
       ]
      },
      {
       "output_type": "stream",
       "stream": "stdout",
       "text": [
        "Symbol\t | Frequency\t | Huffman Code\n",
        "--------------------------------------\n",
        "e \t\t 101 \t\t 000\n",
        "t \t\t 56 \t\t 0010\n",
        "s \t\t 60 \t\t 0011\n",
        "u \t\t 30 \t\t 01000\n",
        "f \t\t 31 \t\t 01001\n",
        "a \t\t 63 \t\t 0101\n",
        "i \t\t 64 \t\t 0110\n",
        ") \t\t 2 \t\t 011100000\n",
        "- \t\t 2 \t\t 011100001\n",
        "/ \t\t 1 \t\t 0111000100\n",
        "5 \t\t 1 \t\t 0111000101\n",
        "1 \t\t 2 \t\t 011100011\n",
        "2 \t\t 2 \t\t 011100100\n",
        "9 \t\t 1 \t\t 0111001010\n",
        "P \t\t 1 \t\t 0111001011\n",
        "C \t\t 2 \t\t 011100110\n",
        "D \t\t 2 \t\t 011100111\n",
        "y \t\t 16 \t\t 011101\n",
        "I \t\t 2 \t\t 011110000\n",
        "R \t\t 1 \t\t 0111100010\n",
        "x \t\t 1 \t\t 0111100011\n",
        "[ \t\t 2 \t\t 011110010\n",
        "] \t\t 2 \t\t 011110011\n",
        "w \t\t 9 \t\t 0111101\n",
        "b \t\t 18 \t\t 011111\n",
        "n \t\t 72 \t\t 1000\n",
        "h \t\t 36 \t\t 10010\n",
        "l \t\t 38 \t\t 10011\n",
        "o \t\t 76 \t\t 1010\n",
        "c \t\t 39 \t\t 10110\n",
        "d \t\t 41 \t\t 10111\n",
        "  \t\t 176 \t\t 110\n",
        "m \t\t 41 \t\t 11100\n",
        ". \t\t 10 \t\t 1110100\n",
        "q \t\t 2 \t\t 111010100\n",
        "' \t\t 3 \t\t 111010101\n",
        "A \t\t 3 \t\t 111010110\n",
        "M \t\t 3 \t\t 111010111\n",
        "p \t\t 21 \t\t 111011\n",
        "r \t\t 42 \t\t 11110\n",
        "g \t\t 23 \t\t 111110\n",
        ", \t\t 7 \t\t 11111100\n",
        "H \t\t 7 \t\t 11111101\n",
        "T \t\t 3 \t\t 111111100\n",
        "\" \t\t 2 \t\t 1111111010\n",
        "( \t\t 2 \t\t 1111111011\n",
        "v \t\t 7 \t\t 11111111\n",
        "------------- Calculating Compression Ratio--------------------------\n",
        "Original Char length:  1126\n",
        "Original Binary length:  9008.0\n",
        "New Binary length:  5042\n",
        "Compression Ratio is:  50.0 %\n"
       ]
      }
     ],
     "prompt_number": 3
    },
    {
     "cell_type": "heading",
     "level": 2,
     "metadata": {},
     "source": [
      "Question 2: King of the Tournament"
     ]
    },
    {
     "cell_type": "markdown",
     "metadata": {},
     "source": [
      " There are n players in a tournament. Each\n",
      "player plays against every other player. Thus, there are nC2 matches in\n",
      "the tournament. There are no draw in the matches. We say that player p1\n",
      "subdued p2 if p1 defeated p2 or p1 defeated some player p3 who defeated\n",
      "p2. Note that p1 and p2 might have subdued each other. A king in the\n",
      "tournament is a player who has subdued every other player \n",
      "\n",
      "Write a program that given the results of a tournament finds if it has a king, if yes then it should also output a king.\n",
      "\n",
      "    \u2022 Model the problem as a graph theoretic problem.\n",
      "    \u2022 Decide a good data structure to store the results of the matches.\n",
      "    \u2022 The run-time of your program should be O(n^2)."
     ]
    },
    {
     "cell_type": "heading",
     "level": 4,
     "metadata": {},
     "source": [
      "Answer:"
     ]
    },
    {
     "cell_type": "markdown",
     "metadata": {},
     "source": [
      "\n",
      "    \n",
      "Problem can be easily solved by making players as nodes, and edges as matches. Direction of edge represents outcome of match.\n",
      "\n",
      "We run BFS from each node. If after BFS all nodes are visited, the Node is a king.\n",
      "\n",
      "Assumptions: \n",
      "    * A player cannot defeat himself/ herself.\n",
      "    * Graph is rep by Python dictionary, where player is key, adjacency list is value."
     ]
    },
    {
     "cell_type": "code",
     "collapsed": false,
     "input": [
      "def create_edge(tournament, winner, loser):\n",
      "\n",
      "    tournament[winner].append( loser)\n",
      "    return tournament\n",
      "\n",
      "def generate_random_tournament_data(num_players = 10):\n",
      "    \"\"\"Just a simple function that simulates all the matches, randomly, outputs in Dict format\"\"\"\n",
      "    i,j=0,0\n",
      "    #Create list of players\n",
      "    players = [ \"Player \"+str(num) for num in range(num_players)]\n",
      "    \n",
      "    tournament_data = {}\n",
      "    for player in players: tournament_data[player] = []\n",
      "    \n",
      "    for i in range(len(players)):\n",
      "        for oponent in players[i:]:\n",
      "            if oponent is  players[i]: continue\n",
      "            #print players[i], \" vs \", oponent\n",
      "            result = randint(0,1)\n",
      "            if result ==0: tournament_data = create_edge(tournament_data, players[i], oponent )\n",
      "            else: tournament_data = create_edge(tournament_data,  oponent, players[i] )\n",
      "   \n",
      "    return tournament_data\n",
      "\n",
      "def breadth_first_search(graph, start):\n",
      "    visited, queue = set(), [start]\n",
      "    while queue:\n",
      "        vertex = queue.pop(0)\n",
      "        if vertex not in visited:\n",
      "            visited.add(vertex)\n",
      "            queue.extend(graph[vertex] - visited)\n",
      "    return visited"
     ],
     "language": "python",
     "metadata": {},
     "outputs": [],
     "prompt_number": 43
    },
    {
     "cell_type": "code",
     "collapsed": false,
     "input": [
      "num_player = input(\"Please input number of players in tournament:\")\n",
      "\n",
      "tournament_dict = generate_random_tournament_data(num_player)\n",
      "print \"\\n---------------------------------\"\n",
      "print \" Player  \\t |  Match WOn Against\"\n",
      "print \"---------------------------------\"\n",
      "for player in tournament_dict.keys():\n",
      "    print player, \"\\t\", tournament_dict[player]\n",
      "    tournament_dict[player] = set(tournament_dict[player])\n",
      "    \n",
      "print \"----------------------\\n\", \"Finding Kings\\n\", \"----------------------\\n\"\n",
      "\n",
      "list_of_players = tournament_dict.keys()\n",
      "kings = []\n",
      "for player in list_of_players:\n",
      "    visited_list  = breadth_first_search(tournament_dict, player)\n",
      "    if len(visited_list) == num_player: kings.append(player)\n",
      "        \n",
      "if len(kings) is  0: print \"No Kings\"\n",
      "else: \n",
      "    print len(kings),\"king(s) found\\n\"\n",
      "    for king in kings: print king ,\" is a king.\"\n",
      "        \n"
     ],
     "language": "python",
     "metadata": {},
     "outputs": [
      {
       "name": "stdout",
       "output_type": "stream",
       "stream": "stdout",
       "text": [
        "Please input number of players in tournament:4\n"
       ]
      },
      {
       "output_type": "stream",
       "stream": "stdout",
       "text": [
        " Player  \t |  Match WOn Against\n",
        "---------------------------------\n",
        "Player 3 \t['Player 1']\n",
        "Player 2 \t['Player 0', 'Player 1', 'Player 3']\n",
        "Player 1 \t[]\n",
        "Player 0 \t['Player 1', 'Player 3']\n",
        "----------------------\n",
        "Finding Kings\n",
        "----------------------\n",
        "\n",
        "1 king(s) found\n",
        "\n",
        "Player 2  is a king.\n"
       ]
      }
     ],
     "prompt_number": 54
    },
    {
     "cell_type": "code",
     "collapsed": false,
     "input": [],
     "language": "python",
     "metadata": {},
     "outputs": [
      {
       "metadata": {},
       "output_type": "pyout",
       "prompt_number": 6,
       "text": [
        "0"
       ]
      }
     ],
     "prompt_number": 6
    },
    {
     "cell_type": "code",
     "collapsed": false,
     "input": [],
     "language": "python",
     "metadata": {},
     "outputs": [],
     "prompt_number": 5
    },
    {
     "cell_type": "code",
     "collapsed": false,
     "input": [],
     "language": "python",
     "metadata": {},
     "outputs": [],
     "prompt_number": 5
    },
    {
     "cell_type": "code",
     "collapsed": false,
     "input": [],
     "language": "python",
     "metadata": {},
     "outputs": []
    }
   ],
   "metadata": {}
  }
 ]
}